{
 "cells": [
  {
   "cell_type": "code",
   "execution_count": 2,
   "metadata": {},
   "outputs": [],
   "source": [
    "import pandas as pd\n",
    "import time"
   ]
  },
  {
   "cell_type": "code",
   "execution_count": 70,
   "metadata": {},
   "outputs": [],
   "source": [
    "standard_stats_17_18 = pd.read_html('https://fbref.com/en/comps/Big5/2017-2018/stats/players/2017-2018-Big-5-European-Leagues-Stats')[0]\n",
    "goalkeeping_17_18 = pd.read_html('https://fbref.com/en/comps/Big5/2017-2018/keepers/players/2017-2018-Big-5-European-Leagues-Stats')[0]\n",
    "goalkeeping_adv_17_18 = pd.read_html('https://fbref.com/en/comps/Big5/2017-2018/keepersadv/players/2017-2018-Big-5-European-Leagues-Stats')[0]\n",
    "shooting_17_18 = pd.read_html('https://fbref.com/en/comps/Big5/2017-2018/shooting/players/2017-2018-Big-5-European-Leagues-Stats')[0]\n",
    "passing_17_18 = pd.read_html('https://fbref.com/en/comps/Big5/2017-2018/passing/players/2017-2018-Big-5-European-Leagues-Stats')[0]\n",
    "pass_types_17_18 = pd.read_html('https://fbref.com/en/comps/Big5/2017-2018/passing_types/players/2017-2018-Big-5-European-Leagues-Stats')[0]\n",
    "gca_17_18 = pd.read_html('https://fbref.com/en/comps/Big5/2017-2018/gca/players/2017-2018-Big-5-European-Leagues-Stats')[0]\n",
    "defense_17_18 = pd.read_html('https://fbref.com/en/comps/Big5/2017-2018/defense/players/2017-2018-Big-5-European-Leagues-Stats')[0]\n",
    "possession_17_18 = pd.read_html('https://fbref.com/en/comps/Big5/2017-2018/possession/players/2017-2018-Big-5-European-Leagues-Stats')[0]\n",
    "misc_17_18 = pd.read_html('https://fbref.com/en/comps/Big5/2017-2018/misc/players/2017-2018-Big-5-European-Leagues-Stats')[0]"
   ]
  },
  {
   "cell_type": "code",
   "execution_count": 10,
   "metadata": {},
   "outputs": [],
   "source": [
    "standard_stats_18_19 = pd.read_html('https://fbref.com/en/comps/Big5/2018-2019/stats/players/2018-2019-Big-5-European-Leagues-Stats')[0]\n",
    "goalkeeping_18_19 = pd.read_html('https://fbref.com/en/comps/Big5/2018-2019/keepers/players/2018-2019-Big-5-European-Leagues-Stats')[0]\n",
    "goalkeeping_adv_18_19 = pd.read_html('https://fbref.com/en/comps/Big5/2018-2019/keepersadv/players/2018-2019-Big-5-European-Leagues-Stats')[0]\n",
    "shooting_18_19 = pd.read_html('https://fbref.com/en/comps/Big5/2018-2019/shooting/players/2018-2019-Big-5-European-Leagues-Stats')[0]\n",
    "passing_18_19 = pd.read_html('https://fbref.com/en/comps/Big5/2018-2019/passing/players/2018-2019-Big-5-European-Leagues-Stats')[0]\n",
    "pass_types_18_19 = pd.read_html('https://fbref.com/en/comps/Big5/2018-2019/passing_types/players/2018-2019-Big-5-European-Leagues-Stats')[0]\n",
    "gca_18_19 = pd.read_html('https://fbref.com/en/comps/Big5/2018-2019/gca/players/2018-2019-Big-5-European-Leagues-Stats')[0]\n",
    "defense_18_19 = pd.read_html('https://fbref.com/en/comps/Big5/2018-2019/defense/players/2018-2019-Big-5-European-Leagues-Stats')[0]\n",
    "possession_18_19 = pd.read_html('https://fbref.com/en/comps/Big5/2018-2019/possession/players/2018-2019-Big-5-European-Leagues-Stats')[0]\n",
    "misc_18_19 = pd.read_html('https://fbref.com/en/comps/Big5/2018-2019/misc/players/2018-2019-Big-5-European-Leagues-Stats')[0]"
   ]
  },
  {
   "cell_type": "code",
   "execution_count": 82,
   "metadata": {
    "scrolled": true
   },
   "outputs": [],
   "source": [
    "standard_stats_19_20 = pd.read_html('https://fbref.com/en/comps/Big5/2019-2020/stats/players/2019-2020-Big-5-European-Leagues-Stats')[0]\n",
    "goalkeeping_19_20 = pd.read_html('https://fbref.com/en/comps/Big5/2019-2020/keepers/players/2019-2020-Big-5-European-Leagues-Stats')[0]\n",
    "goalkeeping_adv_19_20 = pd.read_html('https://fbref.com/en/comps/Big5/2019-2020/keepersadv/players/2019-2020-Big-5-European-Leagues-Stats')[0]\n",
    "shooting_19_20 = pd.read_html('https://fbref.com/en/comps/Big5/2019-2020/shooting/players/2019-2020-Big-5-European-Leagues-Stats')[0]\n",
    "passing_19_20 = pd.read_html('https://fbref.com/en/comps/Big5/2019-2020/passing/players/2019-2020-Big-5-European-Leagues-Stats')[0]\n",
    "pass_types_19_20 = pd.read_html('https://fbref.com/en/comps/Big5/2019-2020/passing_types/players/2019-2020-Big-5-European-Leagues-Stats')[0]\n",
    "gca_19_20 = pd.read_html('https://fbref.com/en/comps/Big5/2019-2020/gca/players/2019-2020-Big-5-European-Leagues-Stats')[0]\n",
    "defense_19_20 = pd.read_html('https://fbref.com/en/comps/Big5/2019-2020/defense/players/2019-2020-Big-5-European-Leagues-Stats')[0]\n",
    "possession_19_20 = pd.read_html('https://fbref.com/en/comps/Big5/2019-2020/possession/players/2019-2020-Big-5-European-Leagues-Stats')[0]\n",
    "misc_19_20 = pd.read_html('https://fbref.com/en/comps/Big5/2019-2020/misc/players/2019/2020-Big-5-European-Leagues-Stats')[0]"
   ]
  },
  {
   "cell_type": "code",
   "execution_count": 92,
   "metadata": {
    "scrolled": true
   },
   "outputs": [],
   "source": [
    "standard_stats_20_21 = pd.read_html('https://fbref.com/en/comps/Big5/2020-2021/stats/players/2020-2021-Big-5-European-Leagues-Stats')[0]\n",
    "goalkeeping_20_21 = pd.read_html('https://fbref.com/en/comps/Big5/2020-2021/keepers/players/2020-2021-Big-5-European-Leagues-Stats')[0]\n",
    "goalkeeping_adv_20_21 = pd.read_html('https://fbref.com/en/comps/Big5/2020-2021/keepersadv/players/2020-2021-Big-5-European-Leagues-Stats')[0]\n",
    "shooting_20_21 = pd.read_html('https://fbref.com/en/comps/Big5/2020-2021/shooting/players/2020-2021-Big-5-European-Leagues-Stats')[0]\n",
    "passing_20_21 = pd.read_html('https://fbref.com/en/comps/Big5/2020-2021/passing/players/2020-2021-Big-5-European-Leagues-Stats')[0]\n",
    "pass_types_20_21 = pd.read_html('https://fbref.com/en/comps/Big5/2020-2021/passing_types/players/2020-2021-Big-5-European-Leagues-Stats')[0]\n",
    "gca_20_21 = pd.read_html('https://fbref.com/en/comps/Big5/2020-2021/gca/players/2020-2021-Big-5-European-Leagues-Stats')[0]\n",
    "defense_20_21 = pd.read_html('https://fbref.com/en/comps/Big5/2020-2021/defense/players/2020-2021-Big-5-European-Leagues-Stats')[0]\n",
    "possession_20_21 = pd.read_html('https://fbref.com/en/comps/Big5/2020-2021/possession/players/2020-2021-Big-5-European-Leagues-Stats')[0]\n",
    "misc_20_21 = pd.read_html('https://fbref.com/en/comps/Big5/2020-2021/misc/players/2020-2021-Big-5-European-Leagues-Stats')[0]"
   ]
  },
  {
   "cell_type": "code",
   "execution_count": 65,
   "metadata": {},
   "outputs": [],
   "source": [
    "standard_stats_21_22 = pd.read_html('https://fbref.com/en/comps/Big5/stats/players/Big-5-European-Leagues-Stats')[0]\n",
    "goalkeeping_21_22 = pd.read_html('https://fbref.com/en/comps/Big5/keepers/players/Big-5-European-Leagues-Stats')[0]\n",
    "goalkeeping_adv_21_22 = pd.read_html('https://fbref.com/en/comps/Big5/keepersadv/players/Big-5-European-Leagues-Stats')[0]\n",
    "shooting_21_22 = pd.read_html('https://fbref.com/en/comps/Big5/shooting/players/Big-5-European-Leagues-Stats')[0]\n",
    "passing_21_22 = pd.read_html('https://fbref.com/en/comps/Big5/passing/players/Big-5-European-Leagues-Stats')[0]\n",
    "pass_types_21_22 = pd.read_html('https://fbref.com/en/comps/Big5/passing_types/players/Big-5-European-Leagues-Stats')[0]\n",
    "gca_21_22 = pd.read_html('https://fbref.com/en/comps/Big5/gca/players/Big-5-European-Leagues-Stats')[0]\n",
    "defense_21_22 = pd.read_html('https://fbref.com/en/comps/Big5/defense/players/Big-5-European-Leagues-Stats')[0]\n",
    "possession_21_22 = pd.read_html('https://fbref.com/en/comps/Big5/possession/players/Big-5-European-Leagues-Stats')[0]\n",
    "misc_21_22 = pd.read_html('https://fbref.com/en/comps/Big5/misc/players/Big-5-European-Leagues-Stats')[0]"
   ]
  },
  {
   "cell_type": "code",
   "execution_count": 6,
   "metadata": {},
   "outputs": [],
   "source": [
    "def fbref_dropheader(df):\n",
    "     my_df = df.copy()\n",
    "     my_df = my_df.droplevel(0,axis=1)\n",
    "     return(my_df)\n",
    "\n",
    "def fbref_cleaner(df):\n",
    "    all_columns = list(df.columns)\n",
    "    unwanted_columns = {'Rk', 'Player','Nation','Pos','Squad','Comp','Age','Born','Matches'}\n",
    "    index_columns = [ele for ele in all_columns if ele not in unwanted_columns]\n",
    "    temp_df = df.loc[:, index_columns].apply(pd.to_numeric, errors='coerce')\n",
    "    temp_df.fillna(0, inplace=True)\n",
    "    master_df = pd.concat([df[['Player','Nation','Pos','Squad','Comp','Age','Born']], temp_df], axis = 1)\n",
    "    return master_df"
   ]
  },
  {
   "cell_type": "code",
   "execution_count": 93,
   "metadata": {},
   "outputs": [],
   "source": [
    "#list_dfs = [standard_stats_17_18, goalkeeping_17_18, goalkeeping_adv_17_18, shooting_17_18, passing_17_18, pass_types_17_18, gca_17_18, defense_17_18, possession_17_18, misc_17_18]\n",
    "#list_dfs = [standard_stats_18_19, goalkeeping_18_19, goalkeeping_adv_18_19, shooting_18_19, passing_18_19, pass_types_18_19, gca_18_19, defense_18_19, possession_18_19, misc_18_19]\n",
    "#list_dfs = [standard_stats_19_20, goalkeeping_19_20, goalkeeping_adv_19_20, shooting_19_20, passing_19_20, pass_types_19_20, gca_19_20, defense_19_20, possession_19_20, misc_19_20]\n",
    "#list_dfs = [standard_stats_20_21, goalkeeping_20_21, goalkeeping_adv_20_21, shooting_20_21, passing_20_21, pass_types_20_21, gca_20_21, defense_20_21, possession_20_21, misc_20_21]\n",
    "#list_dfs = [standard_stats_21_22, goalkeeping_21_22, goalkeeping_adv_21_22, shooting_21_22, passing_21_22, pass_types_21_22, gca_21_22, defense_21_22, possession_21_22, misc_21_22]\n",
    "\n",
    "\n",
    "\n",
    "names_list = ['Std','GK','GK_adv','Shooting',\"Pass\",\"pass-type\",\"SCA\",\"Def\",'Poss',\"Misc\"]\n",
    "path = \"C:\\\\Users\\\\Eslam Mohamed\\\\Desktop\\\\20-21.xlsx\"\n",
    "writer = pd.ExcelWriter(path, engine = 'xlsxwriter')\n",
    "\n",
    "for i in range (len(list_dfs)):\n",
    "    list_dfs[i] = fbref_dropheader(list_dfs[i])\n",
    "    list_dfs[i].reset_index(drop=True)\n",
    "    list_dfs[i] = fbref_cleaner(list_dfs[i])\n",
    "    list_dfs[i]['Season'] = '20/21'\n",
    "    cols = list_dfs[i].columns.tolist()\n",
    "    cols = cols[-1:] + cols[:-1]\n",
    "    list_dfs[i] = list_dfs[i][cols]\n",
    "    list_dfs[i].to_excel(writer, sheet_name = names_list[i])\n",
    "\n",
    "writer.save()\n",
    "writer.close()"
   ]
  },
  {
   "cell_type": "code",
   "execution_count": null,
   "metadata": {},
   "outputs": [],
   "source": []
  }
 ],
 "metadata": {
  "kernelspec": {
   "display_name": "Python 3",
   "language": "python",
   "name": "python3"
  },
  "language_info": {
   "codemirror_mode": {
    "name": "ipython",
    "version": 3
   },
   "file_extension": ".py",
   "mimetype": "text/x-python",
   "name": "python",
   "nbconvert_exporter": "python",
   "pygments_lexer": "ipython3",
   "version": "3.8.3"
  }
 },
 "nbformat": 4,
 "nbformat_minor": 4
}
